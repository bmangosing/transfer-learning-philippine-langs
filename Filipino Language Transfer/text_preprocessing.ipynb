{
 "cells": [
  {
   "cell_type": "code",
   "execution_count": 1,
   "metadata": {},
   "outputs": [],
   "source": [
    "import pandas as pd\n",
    "import re"
   ]
  },
  {
   "cell_type": "code",
   "execution_count": 2,
   "metadata": {},
   "outputs": [],
   "source": [
    "filepath = [\"tagalog_literary_text.txt\", \n",
    "            \"tagalog_religious_text.txt\", \n",
    "            \"ilokano_literary_text.txt\", \n",
    "            \"ilokano_religious_text.txt\", \n",
    "            \"cebuano_literary_text.txt\", \n",
    "            \"cebuano_religious_text.txt\",\n",
    "            \"bikol_literary_text.txt\", \n",
    "            \"bikol_religious_text.txt\",\n",
    "            \"hiligaynon_literary_text.txt\", \n",
    "            \"hiligaynon_religious_text.txt\",\n",
    "            \"kapampangan_literary_text.txt\", \n",
    "            \"kapampangan_religious_text.txt\",\n",
    "            \"pangasinense_literary_text.txt\", \n",
    "            \"pangasinense_religious_text.txt\", \n",
    "            \"waray_literary_text.txt\", \n",
    "            \"waray_religious_text.txt\"]"
   ]
  },
  {
   "cell_type": "code",
   "execution_count": 3,
   "metadata": {},
   "outputs": [
    {
     "ename": "FileNotFoundError",
     "evalue": "[Errno 2] No such file or directory: 'tagalog_literary_text.txt'",
     "output_type": "error",
     "traceback": [
      "\u001b[1;31m---------------------------------------------------------------------------\u001b[0m",
      "\u001b[1;31mFileNotFoundError\u001b[0m                         Traceback (most recent call last)",
      "\u001b[1;32mUntitled-2.ipynb Cell 3\u001b[0m line \u001b[0;36m2\n\u001b[0;32m      <a href='vscode-notebook-cell:Untitled-2.ipynb?jupyter-notebook#W2sdW50aXRsZWQ%3D?line=0'>1</a>\u001b[0m \u001b[39mfor\u001b[39;00m i \u001b[39min\u001b[39;00m filepath:\n\u001b[1;32m----> <a href='vscode-notebook-cell:Untitled-2.ipynb?jupyter-notebook#W2sdW50aXRsZWQ%3D?line=1'>2</a>\u001b[0m     \u001b[39mwith\u001b[39;00m \u001b[39mopen\u001b[39;49m(i, \u001b[39m'\u001b[39;49m\u001b[39mr\u001b[39;49m\u001b[39m'\u001b[39;49m) \u001b[39mas\u001b[39;00m file:\n\u001b[0;32m      <a href='vscode-notebook-cell:Untitled-2.ipynb?jupyter-notebook#W2sdW50aXRsZWQ%3D?line=2'>3</a>\u001b[0m         filedata \u001b[39m=\u001b[39m file\u001b[39m.\u001b[39mread()\n\u001b[0;32m      <a href='vscode-notebook-cell:Untitled-2.ipynb?jupyter-notebook#W2sdW50aXRsZWQ%3D?line=4'>5</a>\u001b[0m     \u001b[39m# Replace the the html tags\u001b[39;00m\n",
      "File \u001b[1;32m~\\AppData\\Roaming\\Python\\Python311\\site-packages\\IPython\\core\\interactiveshell.py:286\u001b[0m, in \u001b[0;36m_modified_open\u001b[1;34m(file, *args, **kwargs)\u001b[0m\n\u001b[0;32m    279\u001b[0m \u001b[39mif\u001b[39;00m file \u001b[39min\u001b[39;00m {\u001b[39m0\u001b[39m, \u001b[39m1\u001b[39m, \u001b[39m2\u001b[39m}:\n\u001b[0;32m    280\u001b[0m     \u001b[39mraise\u001b[39;00m \u001b[39mValueError\u001b[39;00m(\n\u001b[0;32m    281\u001b[0m         \u001b[39mf\u001b[39m\u001b[39m\"\u001b[39m\u001b[39mIPython won\u001b[39m\u001b[39m'\u001b[39m\u001b[39mt let you open fd=\u001b[39m\u001b[39m{\u001b[39;00mfile\u001b[39m}\u001b[39;00m\u001b[39m by default \u001b[39m\u001b[39m\"\u001b[39m\n\u001b[0;32m    282\u001b[0m         \u001b[39m\"\u001b[39m\u001b[39mas it is likely to crash IPython. If you know what you are doing, \u001b[39m\u001b[39m\"\u001b[39m\n\u001b[0;32m    283\u001b[0m         \u001b[39m\"\u001b[39m\u001b[39myou can use builtins\u001b[39m\u001b[39m'\u001b[39m\u001b[39m open.\u001b[39m\u001b[39m\"\u001b[39m\n\u001b[0;32m    284\u001b[0m     )\n\u001b[1;32m--> 286\u001b[0m \u001b[39mreturn\u001b[39;00m io_open(file, \u001b[39m*\u001b[39;49margs, \u001b[39m*\u001b[39;49m\u001b[39m*\u001b[39;49mkwargs)\n",
      "\u001b[1;31mFileNotFoundError\u001b[0m: [Errno 2] No such file or directory: 'tagalog_literary_text.txt'"
     ]
    }
   ],
   "source": [
    "for i in filepath:\n",
    "    with open(i, 'r') as file:\n",
    "        filedata = file.read()\n",
    "\n",
    "    # Replace the the html tags\n",
    "    filedata = filedata.replace('<b>', '')\n",
    "    filedata = filedata.replace('</b>', '')\n",
    "    filedata = filedata.replace('<i>', '')\n",
    "    filedata = filedata.replace('</i>', '')\n",
    "    filedata = filedata.replace('<pd>', '')\n",
    "    filedata = filedata.replace('</pd>', '')\n",
    "    filedata = filedata.replace('<lbl>', '')\n",
    "    filedata = filedata.replace('</lbl>', '')\n",
    "\n",
    "    # Write the file out again\n",
    "    with open(i, 'w') as file:\n",
    "          file.write(filedata)"
   ]
  },
  {
   "cell_type": "code",
   "execution_count": null,
   "metadata": {},
   "outputs": [],
   "source": [
    "#Read in all the different texts and languages from the corpus\n",
    "\n",
    "tag_lit = pd.read_csv('tagalog_literary_text.txt', sep='delimiter', header=None, engine='python')\n",
    "tag_reg = pd.read_csv('tagalog_religious_text.txt', sep='delimiter', header=None, engine='python')\n",
    "\n",
    "ilo_lit = pd.read_csv('ilokano_literary_text.txt', sep='delimiter', header=None, engine='python')\n",
    "ilo_reg = pd.read_csv('ilokano_religious_text.txt', sep='delimiter', header=None, engine='python')\n",
    "\n",
    "ceb_lit = pd.read_csv('cebuano_literary_text.txt', sep='delimiter', header=None, engine='python')\n",
    "ceb_reg = pd.read_csv('cebuano_religious_text.txt', sep='delimiter', header=None, engine='python')\n",
    "\n",
    "bik_lit = pd.read_csv('bikol_literary_text.txt', sep='delimiter', header=None, engine='python')\n",
    "bik_reg = pd.read_csv('bikol_religious_text.txt', sep='delimiter', header=None, engine='python')\n",
    "\n",
    "hil_lit = pd.read_csv('hiligaynon_literary_text.txt', sep='delimiter', header=None, engine='python')\n",
    "hil_reg = pd.read_csv('hiligaynon_religious_text.txt', sep='delimiter', header=None, engine='python')\n",
    "\n",
    "kap_lit = pd.read_csv('kapampangan_literary_text.txt', sep='delimiter', header=None, engine='python')\n",
    "kap_reg = pd.read_csv('kapampangan_religious_text.txt', sep='delimiter', header=None, engine='python')\n",
    "\n",
    "pan_lit = pd.read_csv('pangasinense_literary_text.txt', sep='delimiter', header=None, engine='python')\n",
    "pan_reg = pd.read_csv('pangasinense_religious_text.txt', sep='delimiter', header=None, engine='python')\n",
    "\n",
    "war_lit = pd.read_csv('waray_literary_text.txt', sep='delimiter', header=None, engine='python')\n",
    "war_reg = pd.read_csv('waray_religious_text.txt', sep='delimiter', header=None, engine='python')"
   ]
  },
  {
   "cell_type": "code",
   "execution_count": null,
   "metadata": {},
   "outputs": [],
   "source": [
    "#Setting the columns for the datasets\n",
    "#I didn't use all of the data just because it's a lot\n",
    "\n",
    "text_list = [tag_lit, tag_reg, ilo_lit, ilo_reg, ceb_lit, ceb_reg, bik_lit, bik_reg, hil_lit, hil_reg, war_lit, war_reg] #,kap_lit, kap_reg, pan_lit, pan_reg\n",
    "\n",
    "for i in text_list:\n",
    "    i.columns = ['text']\n",
    "\n",
    "tag_lit['language'] = 'tagalog literature'\n",
    "tag_reg['language'] = 'tagalog religious'\n",
    "\n",
    "ilo_lit['language'] = 'ilokano literature'\n",
    "ilo_reg['language'] = 'ilokano religious'\n",
    "\n",
    "ceb_lit['language'] = 'cebuano literature'\n",
    "ceb_reg['language'] = 'cebuano religious'\n",
    "\n",
    "bik_lit['language'] = 'bikol literature'\n",
    "bik_reg['language'] = 'bikol religious'\n",
    "\n",
    "hil_lit['language'] = 'hiligaynon literature'\n",
    "hil_reg['language'] = 'hiligaynon religious'\n",
    "\n",
    "kap_lit['language'] = 'kapampangan literature'\n",
    "kap_reg['language'] = 'kapampangan religious'\n",
    "\n",
    "pan_lit['language'] = 'pangasinense literature'\n",
    "pan_reg['language'] = 'pangasinense religious'\n",
    "\n",
    "war_lit['language'] = 'waray literature'\n",
    "war_reg['language'] = 'waray religious'"
   ]
  },
  {
   "cell_type": "code",
   "execution_count": null,
   "metadata": {},
   "outputs": [],
   "source": [
    "filipino_data = pd.concat(text_list)"
   ]
  },
  {
   "cell_type": "code",
   "execution_count": null,
   "metadata": {},
   "outputs": [],
   "source": [
    "print(len(filipino_data))"
   ]
  },
  {
   "cell_type": "code",
   "execution_count": null,
   "metadata": {},
   "outputs": [],
   "source": [
    "filipino_data = filipino_data.sample(frac=1).reset_index(drop=True)\n",
    "\n",
    "filipino_data = filipino_data.dropna()"
   ]
  },
  {
   "cell_type": "code",
   "execution_count": null,
   "metadata": {},
   "outputs": [],
   "source": [
    "print(len(filipino_data))\n",
    "labels = list(set(filipino_data['language']))\n",
    "print(labels)"
   ]
  }
 ],
 "metadata": {
  "kernelspec": {
   "display_name": "Python 3",
   "language": "python",
   "name": "python3"
  },
  "language_info": {
   "codemirror_mode": {
    "name": "ipython",
    "version": 3
   },
   "file_extension": ".py",
   "mimetype": "text/x-python",
   "name": "python",
   "nbconvert_exporter": "python",
   "pygments_lexer": "ipython3",
   "version": "3.11.5"
  }
 },
 "nbformat": 4,
 "nbformat_minor": 2
}
